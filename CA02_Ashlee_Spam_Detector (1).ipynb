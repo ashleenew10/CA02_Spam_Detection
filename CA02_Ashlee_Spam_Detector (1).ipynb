{
 "cells": [
  {
   "cell_type": "markdown",
   "id": "da2ada23-c319-4892-8235-ba852da2d2a7",
   "metadata": {},
   "source": [
    "# __CA02:Spam eMail Detection using Naive Bayes Classification Algorithm__\n",
    "2/4/2025"
   ]
  },
  {
   "cell_type": "markdown",
   "id": "900ebb99-23a9-4bc7-b117-3bf1e3ff12b6",
   "metadata": {},
   "source": [
    "_In this code, we will explore training a model with a set of emails that are either spam or not spam. There are 702 emails total that have are equally divided between spam and not spam. We will test the model on 206 emails and ask the model to compare our known classification with the accuracy of its prediction._"
   ]
  },
  {
   "cell_type": "code",
   "execution_count": 63,
   "id": "cc021b23-390b-4220-a673-409870ec5e9b",
   "metadata": {},
   "outputs": [
    {
     "name": "stdout",
     "output_type": "stream",
     "text": [
      "C:\\Users\\ashle\\OneDrive\\Desktop\\BSAN6070\\CA02\n"
     ]
    }
   ],
   "source": [
    "import os\n",
    "print(os.getcwd()) "
   ]
  },
  {
   "cell_type": "code",
   "execution_count": 65,
   "id": "54ded5d8-1252-4c6f-a989-a3a8a17f8e67",
   "metadata": {},
   "outputs": [
    {
     "name": "stdout",
     "output_type": "stream",
     "text": [
      "C:\\Users\\ashle\\OneDrive\\Desktop\\BSAN6070\\CA02\n"
     ]
    }
   ],
   "source": [
    "#For my own work, I am seeing where my working directory is to ensure my file path is connected to where the emails are\n",
    "os.chdir(\"C:/Users/ashle/OneDrive/Desktop/BSAN6070/CA02\") \n",
    "print(os.getcwd()) "
   ]
  },
  {
   "cell_type": "code",
   "execution_count": 67,
   "id": "3e3bbd2b-d7e8-4133-95e9-9afae20754f9",
   "metadata": {},
   "outputs": [
    {
     "name": "stdout",
     "output_type": "stream",
     "text": [
      "Exists: True\n",
      "Is Directory: True\n"
     ]
    }
   ],
   "source": [
    "#I just want to confirm that my working directory is correct\n",
    "print(\"Exists:\", os.path.exists(\"./train-mails\"))\n",
    "print(\"Is Directory:\", os.path.isdir(\"./train-mails\"))"
   ]
  },
  {
   "cell_type": "code",
   "execution_count": 69,
   "id": "ddbfad04-08da-4924-9e9c-16b455bd982d",
   "metadata": {},
   "outputs": [],
   "source": [
    "#Importing neccessary libraries\n",
    "\n",
    "import numpy as np\n",
    "from collections import Counter\n",
    "import re\n",
    "import matplotlib.pyplot as plt\n",
    "from sklearn.model_selection import train_test_split\n",
    "from sklearn.feature_extraction.text import CountVectorizer\n",
    "from sklearn.metrics import accuracy_score, classification_report, confusion_matrix\n",
    "import nltk\n",
    "from nltk.corpus import stopwords\n",
    "\n",
    "#I imported these two in order to proceed with Naive Bayes method\n",
    "from sklearn.naive_bayes import GaussianNB      \n",
    "from sklearn.naive_bayes import MultinomialNB\n",
    "from sklearn.naive_bayes import BernoulliNB\n",
    "from sklearn.metrics import accuracy_score"
   ]
  },
  {
   "cell_type": "code",
   "execution_count": 71,
   "id": "e519571c-e9a1-4515-a2d9-931f640d025a",
   "metadata": {},
   "outputs": [
    {
     "name": "stderr",
     "output_type": "stream",
     "text": [
      "[nltk_data] Downloading package stopwords to\n",
      "[nltk_data]     C:\\Users\\ashle\\AppData\\Roaming\\nltk_data...\n",
      "[nltk_data]   Package stopwords is already up-to-date!\n"
     ]
    }
   ],
   "source": [
    "#Stop words: for this exercise, we are only going to consider the most frequent 3000 words of dictionary from email.\n",
    "\n",
    "nltk.download('stopwords')  # Download stopwords\n",
    "stop_words = set(stopwords.words('english'))  # Here we're choosing the english stopwords"
   ]
  },
  {
   "cell_type": "markdown",
   "id": "88717fef-39e9-42a4-8078-2b91ae60500c",
   "metadata": {},
   "source": [
    "#The following code reads all emails in a directory and extracts and counts word frequencies. In addition, it cleans the data by removing \n",
    "    #non-alphabetic words and single-letter words and returns the 3,000 most frequent words.\n",
    "\n",
    "def make_Dictionary(root_dir):\n",
    "    all_words = []  # Create an empty list\n",
    "    emails = [os.path.join(root_dir, f) for f in os.listdir(root_dir)]  # Get file names and paths from the emails\n",
    "    \n",
    "    for mail in emails:  # This for loop is going to read each email and split them into individual words and append them to the initialized list.\n",
    "        with open(mail) as m:\n",
    "            for line in m:\n",
    "                words = re.sub(r'[^\\w\\s]', '', line.lower()).split()  # Ensure text is lowercase and punctuation is removed.\n",
    "                all_words += words\n",
    "\n",
    "    dictionary = Counter(all_words)  # Create a Counter dictionary where keys are words, and values are their frequencies\n",
    "    \n",
    "    # Filter out non-alphabetic words and single-letter words using a dictionary comprehension\n",
    "    filtered_dict = {word: count for word, count in dictionary.items() if word.isalpha() and len(word) > 1}\n",
    "    \n",
    "    # Get the 3000 most common words\n",
    "    dictionary = Counter(filtered_dict).most_common(3000) # Get back the 3000 most frequently occurring words\n",
    "    return dictionary\n"
   ]
  },
  {
   "cell_type": "code",
   "execution_count": 105,
   "id": "7c15f968-68d0-4e9d-8e62-cb858f3456ed",
   "metadata": {},
   "outputs": [],
   "source": [
    "#The following code reads all emails in a directory and extracts and counts word frequencies. In addition, it cleans the data by removing \n",
    "    #non-alphabetic words and single-letter words and returns the 3,000 most frequent words.\n",
    "\n",
    "def make_Dictionary(root_dir):\n",
    "  all_words = [] # Create an empty list\n",
    "  emails = [os.path.join(root_dir,f) for f in os.listdir(root_dir)] # Get file names and paths from the emails\n",
    "  for mail in emails: # This for loop is going to read each email and split them into individual words and append them to the initialized list.\n",
    "    with open(mail) as m:\n",
    "      for line in m:\n",
    "        words = line.split()\n",
    "        all_words += words\n",
    "  dictionary = Counter(all_words) # Create a Counter dictionary where keys are words, and values are their frequencies\n",
    "  list_to_remove = list(dictionary)\n",
    "\n",
    "  for item in list_to_remove:     # Filter out non-alphabetic words and single-letter words using a dictionary comprehension\n",
    "    if item.isalpha() == False:\n",
    "      del dictionary[item]\n",
    "    elif len(item) == 1:\n",
    "      del dictionary[item]\n",
    "  dictionary = dictionary.most_common(3000) # Get back the 3000 most frequently occurring words\n",
    "  return dictionary\n",
    "            "
   ]
  },
  {
   "cell_type": "code",
   "execution_count": 107,
   "id": "1ba59349-dcaf-473f-a3f3-53faacb86969",
   "metadata": {},
   "outputs": [],
   "source": [
    "def extract_features(mail_dir, dictionary): # with this function, we are converting emails into a numerical representation based on word frequencies\n",
    "  files = [os.path.join(mail_dir,fi) for fi in os.listdir(mail_dir)]\n",
    "  features_matrix = np.zeros((len(files),3000)) # Here we're initializing a feature matrix with each row representing an email; each column an email\n",
    "  train_labels = np.zeros(len(files))  # Labels for training (0 for not spam, 1 for spam)\n",
    "  count = 1;\n",
    "  docID = 0;\n",
    "  for fil in files:\n",
    "    with open(fil) as fi:  # Looping through each email\n",
    "      for i, line in enumerate(fi):  # Open each email\n",
    "        if i ==2: # looking at just the third line (probably because the emails contain 2 lines of headers and we only want to look at the subjects)\n",
    "          words = line.split()\n",
    "          for word in words: # Check if the word exists in the dictionary and update the features matrix\n",
    "            wordID = 0\n",
    "            for i, d in enumerate(dictionary):\n",
    "              if d[0] == word:\n",
    "                wordID = i\n",
    "                features_matrix[docID,wordID] = words.count(word)\n",
    "      train_labels[docID] = 0;\n",
    "      filepathTokens = fil.split('\\\\')\n",
    "      lastToken = filepathTokens[len(filepathTokens)-1]\n",
    "      if lastToken.startswith(\"spmsg\"):\n",
    "        train_labels[docID] = 1; # Assign label based on the filename (if it starts with 'spmsg' it's spam)\n",
    "        count = count + 1 # Increment word count for this document\n",
    "      docID = docID + 1\n",
    "  return features_matrix, train_labels  "
   ]
  },
  {
   "cell_type": "code",
   "execution_count": 109,
   "id": "39d32cf5-7f80-4e17-9895-ca24aa377ed3",
   "metadata": {},
   "outputs": [],
   "source": [
    "#As per the \"Important Note\", make sure the the path of your data folders 'train-mails' and 'test-mails' are './train-mails' and './test-mails'.\n",
    "    #This means you must have your .ipynb file and these folders in the SAME FOLDER in your laptop or Google Drive.\n",
    "\n",
    "TRAIN_DIR = './train-mails'\n",
    "TEST_DIR = './test-mails'\n",
    "\n",
    "\n",
    "train_dict = make_Dictionary(TRAIN_DIR) #Here I am creating dictionaries for both training/testing based on the 3000 most frequent words\n",
    "test_dict = make_Dictionary(TEST_DIR)\n",
    "\n",
    "\n",
    "features_matrix, labels = extract_features(TRAIN_DIR, train_dict) #feature extraction from training dataset\n",
    "test_features_matrix, test_labels = extract_features(TEST_DIR, test_dict) #feature extraction from testing dataset\n"
   ]
  },
  {
   "cell_type": "code",
   "execution_count": 111,
   "id": "9bbc7dad-77ab-43b0-a287-6cd72d949c8f",
   "metadata": {},
   "outputs": [
    {
     "name": "stdout",
     "output_type": "stream",
     "text": [
      "[0. 0. 0. 0. 0. 0. 0. 0. 0. 0. 0. 0. 0. 0. 0. 0. 0. 0. 0. 0. 0. 0. 0. 0.\n",
      " 0. 0. 0. 0. 0. 0. 0. 0. 0. 0. 0. 0. 0. 0. 0. 0. 0. 0. 0. 0. 0. 0. 0. 0.\n",
      " 0. 0. 0. 0. 0. 0. 0. 0. 0. 0. 0. 0. 0. 0. 0. 0. 0. 0. 0. 0. 0. 0. 0. 0.\n",
      " 0. 0. 0. 0. 0. 0. 0. 0. 0. 0. 0. 0. 0. 0. 0. 0. 0. 0. 0. 0. 0. 0. 0. 0.\n",
      " 0. 0. 0. 0. 0. 0. 0. 0. 0. 0. 0. 0. 0. 0. 0. 0. 0. 0. 0. 0. 0. 0. 0. 0.\n",
      " 0. 0. 0. 0. 0. 0. 0. 0. 0. 0. 0. 0. 0. 0. 0. 0. 0. 0. 0. 0. 0. 0. 0. 0.\n",
      " 0. 0. 0. 0. 0. 0. 0. 0. 0. 0. 0. 0. 0. 0. 0. 0. 0. 0. 0. 0. 0. 0. 0. 0.\n",
      " 0. 0. 0. 0. 0. 0. 0. 0. 0. 0. 0. 0. 0. 0. 0. 0. 0. 0. 0. 0. 0. 0. 0. 0.\n",
      " 0. 0. 0. 0. 0. 0. 0. 0. 0. 0. 0. 0. 0. 0. 0. 0. 0. 0. 0. 0. 0. 0. 0. 0.\n",
      " 0. 0. 0. 0. 0. 0. 0. 0. 0. 0. 0. 0. 0. 0. 0. 0. 0. 0. 0. 0. 0. 0. 0. 0.\n",
      " 0. 0. 0. 0. 0. 0. 0. 0. 0. 0. 0. 0. 0. 0. 0. 0. 0. 0. 0. 0. 0. 0. 0. 0.\n",
      " 0. 0. 0. 0. 0. 0. 0. 0. 0. 0. 0. 0. 0. 0. 0. 0. 0. 0. 0. 0. 0. 0. 0. 0.\n",
      " 0. 0. 0. 0. 0. 0. 0. 0. 0. 0. 0. 0. 0. 0. 0. 0. 0. 0. 0. 0. 0. 0. 0. 0.\n",
      " 0. 0. 0. 0. 0. 0. 0. 0. 0. 0. 0. 0. 0. 0. 0. 0. 0. 0. 0. 0. 0. 0. 0. 0.\n",
      " 0. 0. 0. 0. 0. 0. 0. 0. 0. 0. 0. 0. 0. 0. 0. 1. 1. 1. 1. 1. 1. 1. 1. 1.\n",
      " 1. 1. 1. 1. 1. 1. 1. 1. 1. 1. 1. 1. 1. 1. 1. 1. 1. 1. 1. 1. 1. 1. 1. 1.\n",
      " 1. 1. 1. 1. 1. 1. 1. 1. 1. 1. 1. 1. 1. 1. 1. 1. 1. 1. 1. 1. 1. 1. 1. 1.\n",
      " 1. 1. 1. 1. 1. 1. 1. 1. 1. 1. 1. 1. 1. 1. 1. 1. 1. 1. 1. 1. 1. 1. 1. 1.\n",
      " 1. 1. 1. 1. 1. 1. 1. 1. 1. 1. 1. 1. 1. 1. 1. 1. 1. 1. 1. 1. 1. 1. 1. 1.\n",
      " 1. 1. 1. 1. 1. 1. 1. 1. 1. 1. 1. 1. 1. 1. 1. 1. 1. 1. 1. 1. 1. 1. 1. 1.\n",
      " 1. 1. 1. 1. 1. 1. 1. 1. 1. 1. 1. 1. 1. 1. 1. 1. 1. 1. 1. 1. 1. 1. 1. 1.\n",
      " 1. 1. 1. 1. 1. 1. 1. 1. 1. 1. 1. 1. 1. 1. 1. 1. 1. 1. 1. 1. 1. 1. 1. 1.\n",
      " 1. 1. 1. 1. 1. 1. 1. 1. 1. 1. 1. 1. 1. 1. 1. 1. 1. 1. 1. 1. 1. 1. 1. 1.\n",
      " 1. 1. 1. 1. 1. 1. 1. 1. 1. 1. 1. 1. 1. 1. 1. 1. 1. 1. 1. 1. 1. 1. 1. 1.\n",
      " 1. 1. 1. 1. 1. 1. 1. 1. 1. 1. 1. 1. 1. 1. 1. 1. 1. 1. 1. 1. 1. 1. 1. 1.\n",
      " 1. 1. 1. 1. 1. 1. 1. 1. 1. 1. 1. 1. 1. 1. 1. 1. 1. 1. 1. 1. 1. 1. 1. 1.\n",
      " 1. 1. 1. 1. 1. 1. 1. 1. 1. 1. 1. 1. 1. 1. 1. 1. 1. 1. 1. 1. 1. 1. 1. 1.\n",
      " 1. 1. 1. 1. 1. 1. 1. 1. 1. 1. 1. 1. 1. 1. 1. 1. 1. 1. 1. 1. 1. 1. 1. 1.\n",
      " 1. 1. 1. 1. 1. 1. 1. 1. 1. 1. 1. 1. 1. 1. 1. 1. 1. 1. 1. 1. 1. 1. 1. 1.\n",
      " 1. 1. 1. 1. 1. 1.]\n"
     ]
    }
   ],
   "source": [
    "print(labels)"
   ]
  },
  {
   "cell_type": "code",
   "execution_count": 113,
   "id": "fbf5a271-2766-4c09-8890-278b217d3c64",
   "metadata": {},
   "outputs": [
    {
     "name": "stdout",
     "output_type": "stream",
     "text": [
      "[('order', 1414), ('address', 1299), ('report', 1217), ('mail', 1133), ('language', 1099), ('send', 1080), ('email', 1066), ('program', 1009), ('our', 991), ('list', 946), ('one', 921), ('name', 883), ('receive', 826), ('free', 801), ('money', 797), ('work', 756), ('information', 684), ('business', 669), ('please', 657), ('university', 600)]\n"
     ]
    }
   ],
   "source": [
    "print(train_dict[:20])"
   ]
  },
  {
   "cell_type": "code",
   "execution_count": 115,
   "id": "ce0048e8-e3f3-4649-8e32-f82c6c4768fe",
   "metadata": {},
   "outputs": [
    {
     "name": "stdout",
     "output_type": "stream",
     "text": [
      "[('university', 582), ('language', 497), ('http', 397), ('information', 361), ('our', 342), ('address', 336), ('com', 331), ('de', 325), ('conference', 314), ('email', 273), ('one', 269), ('order', 248), ('please', 248), ('paper', 237), ('program', 232), ('www', 226), ('include', 224), ('web', 223), ('workshop', 223), ('linguistic', 217)]\n"
     ]
    }
   ],
   "source": [
    "print(test_dict[:20])"
   ]
  },
  {
   "cell_type": "code",
   "execution_count": 117,
   "id": "d4faf5e1-fb85-46c7-8e55-8a2cfd75dd5b",
   "metadata": {},
   "outputs": [
    {
     "name": "stdout",
     "output_type": "stream",
     "text": [
      "order: 1414\n",
      "address: 1299\n",
      "report: 1217\n",
      "mail: 1133\n",
      "language: 1099\n",
      "send: 1080\n",
      "email: 1066\n",
      "program: 1009\n",
      "our: 991\n",
      "list: 946\n",
      "one: 921\n",
      "name: 883\n",
      "receive: 826\n",
      "free: 801\n",
      "money: 797\n",
      "work: 756\n",
      "information: 684\n",
      "business: 669\n",
      "please: 657\n",
      "university: 600\n"
     ]
    }
   ],
   "source": [
    "top_20_trainwords = train_dict[:20]  # Get the top 20 most common words from the dictionary\n",
    "for word, count in top_20_trainwords:\n",
    "    print(f\"{word}: {count}\")"
   ]
  },
  {
   "cell_type": "code",
   "execution_count": 119,
   "id": "babcaa0e-4fbe-4664-ab8d-f7f202cdb11f",
   "metadata": {},
   "outputs": [
    {
     "name": "stdout",
     "output_type": "stream",
     "text": [
      "university: 582\n",
      "language: 497\n",
      "http: 397\n",
      "information: 361\n",
      "our: 342\n",
      "address: 336\n",
      "com: 331\n",
      "de: 325\n",
      "conference: 314\n",
      "email: 273\n",
      "one: 269\n",
      "order: 248\n",
      "please: 248\n",
      "paper: 237\n",
      "program: 232\n",
      "www: 226\n",
      "include: 224\n",
      "web: 223\n",
      "workshop: 223\n",
      "linguistic: 217\n"
     ]
    }
   ],
   "source": [
    "top_20_testwords = test_dict[:20]  # Get the top 20 most common words from the dictionary\n",
    "for word, count in top_20_testwords:\n",
    "    print(f\"{word}: {count}\")"
   ]
  },
  {
   "cell_type": "code",
   "execution_count": 26,
   "id": "319d41df-cc53-4c14-bc7c-c709ff3ed409",
   "metadata": {},
   "outputs": [],
   "source": [
    "#To make this code even better, I would further investigate some of these words and why they are appearing\n",
    "#For example... \"www\", \"de\", \"nt\" and\"come\" do not seem to be english words. I want to know why these appear and why they are frequent."
   ]
  },
  {
   "cell_type": "markdown",
   "id": "5e2e6064-de2c-4405-b1af-21be4c9f250e",
   "metadata": {},
   "source": [
    "## __Training, Predicting, and Evaluating Model__\n",
    "_Now that we have processed our emails, we can proceed with model traning, predicting, and evaluating_"
   ]
  },
  {
   "cell_type": "markdown",
   "id": "50af0775-998a-424b-8864-bacb28bdb588",
   "metadata": {},
   "source": [
    "### Training our model using Naive Bayes algorithm"
   ]
  },
  {
   "cell_type": "code",
   "execution_count": 135,
   "id": "f09aa824-7265-4933-acbf-00066216b681",
   "metadata": {},
   "outputs": [
    {
     "name": "stdout",
     "output_type": "stream",
     "text": [
      "Training completed\n",
      "Testing trained model to predict Test Data labels...\n"
     ]
    }
   ],
   "source": [
    "#model = GaussianNB() #got an accuracy of 1?\n",
    "#model = MultinomialNB() #again, got an accuracy of 1?\n",
    "model = BernoulliNB()\n",
    "\n",
    "model.fit(features_matrix, labels)\n",
    "print(\"Training completed\")\n",
    "print(\"Testing trained model to predict Test Data labels...\")"
   ]
  },
  {
   "cell_type": "markdown",
   "id": "29ee467f-b626-4bf5-b767-01f9fb27dfa3",
   "metadata": {},
   "source": [
    "### Predicting labels for the test data based on the training data"
   ]
  },
  {
   "cell_type": "code",
   "execution_count": 123,
   "id": "808f9aa0-64b0-49e7-a420-996dd4ccd7bf",
   "metadata": {},
   "outputs": [
    {
     "name": "stdout",
     "output_type": "stream",
     "text": [
      "Completed classification of the Test Data ....\n"
     ]
    }
   ],
   "source": [
    "predicted_labels = model.predict(test_features_matrix)\n",
    "print(\"Completed classification of the Test Data ....\")"
   ]
  },
  {
   "cell_type": "markdown",
   "id": "1fc008e5-a1fe-45db-aa11-807074a93a9c",
   "metadata": {},
   "source": [
    "### Evaluating performance (Accuracy)"
   ]
  },
  {
   "cell_type": "code",
   "execution_count": 137,
   "id": "e5a0514a-21bc-4c72-a8a8-8c0c2e29ebaf",
   "metadata": {},
   "outputs": [
    {
     "name": "stdout",
     "output_type": "stream",
     "text": [
      "Now printing Accuracy Score by comparing the Predicted Labels with the Test Labels:\n",
      "0.6115384615384616\n"
     ]
    }
   ],
   "source": [
    "print(\"Now printing Accuracy Score by comparing the Predicted Labels with the Test Labels:\") \n",
    "accuracy = accuracy_score(test_labels, predicted_labels)\n",
    "print(accuracy)"
   ]
  },
  {
   "cell_type": "code",
   "execution_count": 127,
   "id": "e9ba3485-702b-440d-b716-a01a18800e17",
   "metadata": {},
   "outputs": [
    {
     "name": "stdout",
     "output_type": "stream",
     "text": [
      "              precision    recall  f1-score   support\n",
      "\n",
      "         0.0       0.67      0.45      0.53       130\n",
      "         1.0       0.58      0.78      0.67       130\n",
      "\n",
      "    accuracy                           0.61       260\n",
      "   macro avg       0.63      0.61      0.60       260\n",
      "weighted avg       0.63      0.61      0.60       260\n",
      "\n"
     ]
    }
   ],
   "source": [
    "#I keep getting an accuracy of 1.0 regardless of model and attempting to look at overfitting issues...\n",
    "    #I wanted to take a look at other metrics but this seems sketchy hm......\n",
    "\n",
    "print(classification_report(test_labels, predicted_labels)) "
   ]
  },
  {
   "cell_type": "code",
   "execution_count": 129,
   "id": "b5c11192-14a8-4d44-bf63-d08b350d87ea",
   "metadata": {},
   "outputs": [
    {
     "name": "stdout",
     "output_type": "stream",
     "text": [
      "True: 0.0 Predicted: 0.0\n",
      "True: 0.0 Predicted: 0.0\n",
      "True: 0.0 Predicted: 0.0\n",
      "True: 0.0 Predicted: 1.0\n",
      "True: 0.0 Predicted: 0.0\n",
      "True: 0.0 Predicted: 0.0\n",
      "True: 0.0 Predicted: 0.0\n",
      "True: 0.0 Predicted: 1.0\n",
      "True: 0.0 Predicted: 1.0\n",
      "True: 0.0 Predicted: 1.0\n"
     ]
    }
   ],
   "source": [
    "for i in range(10):\n",
    "    print(\"True:\", test_labels[i], \"Predicted:\", predicted_labels[i])"
   ]
  },
  {
   "cell_type": "markdown",
   "id": "9e34b8af-ac39-475e-a40b-68ed9655c328",
   "metadata": {},
   "source": [
    "### My initial issue I ended up finding was that all of the messages were being incorrectly classified as \"not spam\" (labeled as 0) because none of them met the requirement \"if lastToken.startswith(\"spmsg\")\". In looking deeper into what seems to be spam or not, there are many other details that may contribute to this\n",
    "\n",
    "However, because the logic is using simply the file name in this case, it makes sense that they are being classified correctly. It would be a better model if we were looking into the messages too and trying to decipher if the content shows it is spam or not."
   ]
  },
  {
   "cell_type": "markdown",
   "id": "6943b6f9-3520-4b94-8143-50f874ceca9f",
   "metadata": {},
   "source": [
    "Desired output: reading and processing emails from TRAIN and TEST folders\r\n",
    "Training Model using Gaussian Naibe Bayes algorithm .....\r\n",
    "Training completed\r\n",
    "testing trained model to predict Test Data labels\r\n",
    "Completed classification of the Test Data .... now printing Accuracy Score by comparing the Predicted Labels with the Test Labels:\r\n",
    "0.9653846153846154"
   ]
  }
 ],
 "metadata": {
  "kernelspec": {
   "display_name": "Python 3 (ipykernel)",
   "language": "python",
   "name": "python3"
  },
  "language_info": {
   "codemirror_mode": {
    "name": "ipython",
    "version": 3
   },
   "file_extension": ".py",
   "mimetype": "text/x-python",
   "name": "python",
   "nbconvert_exporter": "python",
   "pygments_lexer": "ipython3",
   "version": "3.12.8"
  }
 },
 "nbformat": 4,
 "nbformat_minor": 5
}
